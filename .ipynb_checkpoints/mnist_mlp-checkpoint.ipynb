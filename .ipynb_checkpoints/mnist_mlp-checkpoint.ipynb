{
 "cells": [
  {
   "cell_type": "code",
   "execution_count": 1,
   "id": "214291a1-7020-40fa-a66d-738d05107b77",
   "metadata": {},
   "outputs": [],
   "source": [
    "import numpy as np\n",
    "import matplotlib.pyplot as plt"
   ]
  },
  {
   "cell_type": "code",
   "execution_count": 23,
   "id": "268938ab-cc38-4b98-9772-e4c9f69e94de",
   "metadata": {},
   "outputs": [],
   "source": [
    "rng = np.random.default_rng(186) # reproducibility"
   ]
  },
  {
   "cell_type": "code",
   "execution_count": 3,
   "id": "30fa8dac-75ca-4fe1-acae-fc00902453e9",
   "metadata": {},
   "outputs": [],
   "source": [
    "img_size = 28 # width/height of an image\n",
    "train_len = 60000\n",
    "test_len = 10000"
   ]
  },
  {
   "cell_type": "code",
   "execution_count": 4,
   "id": "103d6fc0-fb83-4758-9f52-872c9bb88d3f",
   "metadata": {},
   "outputs": [],
   "source": [
    "def load_images():\n",
    "    f = open('train-images.idx3-ubyte', 'rb')\n",
    "    top = f.read(16) # skipping magic number and metadata\n",
    "    images_b = f.read(img_size * img_size * train_len)\n",
    "    f.close()\n",
    "    train_X_full = np.frombuffer(images_b, dtype=np.uint8)\n",
    "    train_X_full = train_X_full.reshape(train_len, img_size * img_size)\n",
    "    print(\"Train X shape: \", train_X_full.shape)\n",
    "\n",
    "    f = open('t10k-images.idx3-ubyte', 'rb')\n",
    "    top = f.read(16)\n",
    "    images_b = f.read(img_size * img_size * test_len)\n",
    "    f.close()\n",
    "    test_X = np.frombuffer(images_b, dtype=np.uint8)\n",
    "    test_X = test_X.reshape(test_len, img_size * img_size)\n",
    "    print(\"Test X shape: \", test_X.shape)\n",
    "\n",
    "    return (train_X_full, test_X)\n",
    "\n",
    "def load_labels():\n",
    "    f = open('train-labels.idx1-ubyte', 'rb')\n",
    "    top = f.read(8)\n",
    "    labels_b = f.read(train_len)\n",
    "    train_y_full = np.frombuffer(labels_b, dtype=np.uint8)\n",
    "    print(\"Train Y shape: \", train_y_full.shape)\n",
    "\n",
    "    f = open('t10k-labels.idx1-ubyte', 'rb')\n",
    "    top = f.read(8)\n",
    "    labels_b = f.read(test_len)\n",
    "    test_y = np.frombuffer(labels_b, dtype=np.uint8)\n",
    "    print(\"Test Y shape: \", test_y.shape)\n",
    "\n",
    "    return (train_y_full, test_y)\n"
   ]
  },
  {
   "cell_type": "code",
   "execution_count": 5,
   "id": "e45bd3ad-4d7f-413a-b718-aea4ad93e5d3",
   "metadata": {},
   "outputs": [],
   "source": [
    "def matrix_to_images(X, y):\n",
    "    images = X.reshape((-1, img_size, img_size)) # reshaping flattened arrays into square matrices\n",
    "    img_num = len(images)\n",
    "    columns = min(5, img_num) # showing only up to 5 images per row\n",
    "    rows = int(np.ceil(img_num / columns))\n",
    "    fig = plt.figure(figsize=(3 * columns, 3 * rows))\n",
    "    \n",
    "    for i in np.arange(len(images)):\n",
    "        fig.add_subplot(rows, columns, i + 1)\n",
    "        plt.imshow(images[i], cmap='gray', vmin=0, vmax=255)\n",
    "        plt.axis('off')\n",
    "        plt.title(f\"Image {i + 1}, Label: {y[i]}\")\n"
   ]
  },
  {
   "cell_type": "code",
   "execution_count": 38,
   "id": "526126ef-b6ce-425e-896b-addec45d71cb",
   "metadata": {},
   "outputs": [],
   "source": [
    "class DNNModel:\n",
    "    def __init__(self):\n",
    "        self.layers = []\n",
    "\n",
    "    def add(self, layer):\n",
    "        self.layers.append(layer)\n",
    "\n",
    "    def forward(self, X):\n",
    "        layer_output = X\n",
    "        for layer in self.layers:\n",
    "            layer_output = layer.forward(layer_output) # feeding the data to layers and saving output as the next input\n",
    "        return layer_output\n",
    "\n",
    "    def backward(self, y, eta, beta):\n",
    "        error = y\n",
    "        for layer in reversed(self.layers):\n",
    "            error = layer.backward(error, eta, beta) # backpropagating error from the last layers\n",
    "        return error\n",
    "\n",
    "    def prepare_minibatches(self, X, y, size=32, shuffle=True):\n",
    "        if shuffle:\n",
    "            idx = np.arange(0, X.shape[0])\n",
    "            idx = np.random.permutation(idx)\n",
    "            X = X[idx, :]\n",
    "            y = y[idx]\n",
    "        \n",
    "        X_batches = [X[i: i+size, :] for i in range(0, X.shape[0], size)]\n",
    "        y_batches = [y[i: i+size] for i in range(0, y.shape[0], size)]\n",
    "\n",
    "        return (X_batches, y_batches)\n",
    "\n",
    "    def loss(self, X, y):\n",
    "        yhat = self.forward(X)\n",
    "        loss = np.mean(-np.log(np.clip(yhat[np.arange(yhat.shape[0]), y], 10e-10, 1))) # clipping ar 10e-10 at lower end because log0 is undefined\n",
    "        return loss\n",
    "\n",
    "    def fit(self, X, y, epochs=3, eta=0.01, batch_size=32, beta=0.9, val_X=None, val_y=None):\n",
    "        losses = []\n",
    "        val_losses = []\n",
    "        for i in range(epochs):\n",
    "            X_batches, y_batches = self.prepare_minibatches(X, y, batch_size)\n",
    "            adapted_lr = eta * (0.5 ** np.floor(i / 5)) # learning rate decay\n",
    "            for X_mini, y_mini in zip(X_batches, y_batches):\n",
    "                self.forward(X_mini)\n",
    "                self.backward(y_mini, adapted_lr, beta)\n",
    "            losses.append(self.loss(X, y)) # keeping track of losses on each epoch\n",
    "            if val_X is not None and val_y is not None: # validation losses as well if present\n",
    "                val_losses.append(self.loss(val_X, val_y))\n",
    "                print(\"Epoch \", i + 1, \", Loss: \", losses[-1], \" Val loss: \", val_losses[-1])\n",
    "            else:\n",
    "                print(\"Epoch \", i + 1, \", Loss: \", losses[-1])\n",
    "        if val_X is not None and val_y is not None:\n",
    "            return (losses, val_losses)\n",
    "        return losses\n",
    "\n",
    "    def predict(self, X):\n",
    "        pred = self.forward(X)\n",
    "        return pred\n"
   ]
  },
  {
   "cell_type": "code",
   "execution_count": 7,
   "id": "892cae98-5cf0-4bdf-8403-2b8c24f6bf9d",
   "metadata": {},
   "outputs": [],
   "source": [
    "class HiddenLayer:\n",
    "    def __init__(self, inputs, outputs):\n",
    "        std = np.sqrt(2 / inputs)\n",
    "        self.weights = rng.normal(0, std, size=(inputs, outputs)) # He initialization\n",
    "        self.bias = np.zeros((1, outputs))\n",
    "        self.dj_dw = None\n",
    "        self.dj_db = None\n",
    "\n",
    "    def relu(self, X):\n",
    "        return np.maximum(np.zeros_like(X), X)\n",
    "\n",
    "    def forward(self, X):\n",
    "        self.input = X\n",
    "        self.output = X.dot(self.weights) + self.bias\n",
    "        self.output = self.relu(self.output)\n",
    "        return self.output\n",
    "\n",
    "    def backward(self, output_error, eta, beta):\n",
    "        dj_relu = (self.output > 0).astype(float) # loss derivative w.r.t activation\n",
    "\n",
    "        if self.dj_dw is not None and self.dj_db is not None:\n",
    "            self.dj_dw = beta * self.dj_dw + (1 - beta) * self.input.T.dot(output_error * dj_relu) # gradient descent with momentum\n",
    "            self.dj_db = beta * self.dj_db + (1 - beta) * np.sum(output_error * dj_relu, axis=0)\n",
    "        else:\n",
    "            self.dj_dw = self.input.T.dot(output_error * dj_relu)\n",
    "            self.dj_db = np.sum(output_error * dj_relu, axis=0)\n",
    "\n",
    "        self.weights -= self.dj_dw * eta\n",
    "        self.bias -= self.dj_db * eta\n",
    "\n",
    "        return output_error.dot(self.weights.T) # backpropagating the error"
   ]
  },
  {
   "cell_type": "code",
   "execution_count": 8,
   "id": "e86d3f1a-9da8-4a69-9017-2f9c85b73928",
   "metadata": {},
   "outputs": [],
   "source": [
    "class OutputLayer:\n",
    "    def __init__(self, inputs, outputs):\n",
    "        std = np.sqrt(2 / inputs)\n",
    "        self.weights = rng.normal(0, std, size=(inputs, outputs))\n",
    "        self.bias = np.zeros((1, outputs))\n",
    "        self.dj_dw = None\n",
    "        self.dj_db = None\n",
    "\n",
    "    def softmax(self, X):\n",
    "        shifted_X = X - np.max(X, axis=1, keepdims=True) # shifting values to avoid big numbers in exponent, preventing overflow\n",
    "        exp_x = np.exp(shifted_X)\n",
    "        return exp_x / np.sum(exp_x, axis=1, keepdims=True)\n",
    "\n",
    "    def forward(self, X):\n",
    "        self.input = X\n",
    "        self.output = X.dot(self.weights) + self.bias\n",
    "        self.output = self.softmax(self.output)\n",
    "        return self.output\n",
    "\n",
    "    def backward(self, y, eta, beta):\n",
    "        y_onehot = np.zeros_like(self.output)\n",
    "        y_onehot[np.arange(y.shape[0]), y] = 1\n",
    "        error = self.output - y_onehot # softmax derivative\n",
    "        error /= self.input.shape[0] # normalizing the error to make learning rate consistent with any minibatch size\n",
    "        input_error = error.dot(self.weights.T) # error w.r.t to input\n",
    "\n",
    "        if self.dj_dw is not None and self.dj_db is not None:\n",
    "            self.dj_dw = beta * self.dj_dw + (1 - beta) * self.input.T.dot(error)\n",
    "            self.dj_db = beta * self.dj_db + (1 - beta) * np.sum(error, axis=0)\n",
    "        else:\n",
    "            self.dj_dw = self.input.T.dot(error)\n",
    "            self.dj_db = np.sum(error, axis=0)\n",
    "\n",
    "        self.weights -= self.dj_dw * eta\n",
    "        self.bias -= self.dj_db * eta\n",
    "\n",
    "        return input_error"
   ]
  },
  {
   "cell_type": "code",
   "execution_count": 9,
   "id": "bd1dfe2b-fb50-4d47-8109-780049d2e86f",
   "metadata": {},
   "outputs": [],
   "source": [
    "def preprocess_training(train_X_full, train_y_full, train_part=0.75):\n",
    "    train_X_full = train_X_full / 255 # restricting pixels intensity to [0, 1] for faster convergence\n",
    "    \n",
    "    stopat = int(np.floor(train_len * train_part))\n",
    "    train_X = train_X_full[:stopat, :]\n",
    "    train_y = train_y_full[:stopat]\n",
    "    val_X = train_X_full[stopat:, :]\n",
    "    val_y = train_y_full[stopat:]\n",
    "    return (train_X, train_y, val_X, val_y)\n",
    "\n",
    "def preprocess_test(test_X, test_y):\n",
    "    test_X = test_X / 255\n",
    "    return (test_X, test_y)\n"
   ]
  },
  {
   "cell_type": "code",
   "execution_count": 10,
   "id": "f45bd5f4-649b-48de-bdfd-b8d7ad02f15d",
   "metadata": {},
   "outputs": [
    {
     "name": "stdout",
     "output_type": "stream",
     "text": [
      "Train X shape:  (60000, 784)\n",
      "Test X shape:  (10000, 784)\n",
      "Train Y shape:  (60000,)\n",
      "Test Y shape:  (10000,)\n"
     ]
    },
    {
     "data": {
      "image/png": "[encoded data removed]",
      "text/plain": [
       "<Figure size 1500x300 with 5 Axes>"
      ]
     },
     "metadata": {},
     "output_type": "display_data"
    }
   ],
   "source": [
    "train_X_full, test_X = load_images()\n",
    "train_y_full, test_y = load_labels()\n",
    "\n",
    "matrix_to_images(train_X_full[:5, :], train_y_full)\n",
    "\n",
    "train_X, train_y, val_X, val_y= preprocess_training(train_X_full, train_y_full)\n",
    "test_X, test_y = preprocess_test(test_X, test_y)"
   ]
  },
  {
   "cell_type": "code",
   "execution_count": 39,
   "id": "7381555f-4109-40e5-a729-83eb29025a22",
   "metadata": {},
   "outputs": [
    {
     "name": "stdout",
     "output_type": "stream",
     "text": [
      "Epoch  1 , Loss:  0.12363447203601305  Val loss:  0.14561659673305452\n",
      "Epoch  2 , Loss:  0.08726438064022271  Val loss:  0.12241402721523521\n",
      "Epoch  3 , Loss:  0.051243150099975536  Val loss:  0.09416391820572191\n",
      "Epoch  4 , Loss:  0.03540240246451612  Val loss:  0.08449724728953933\n",
      "Epoch  5 , Loss:  0.029462654061652358  Val loss:  0.08504033102614482\n",
      "Epoch  6 , Loss:  0.016179507155547876  Val loss:  0.07343739438138809\n",
      "Epoch  7 , Loss:  0.013983760539321618  Val loss:  0.0736270455523502\n",
      "Epoch  8 , Loss:  0.01207346244675857  Val loss:  0.07349256657288251\n",
      "Epoch  9 , Loss:  0.009956571611213662  Val loss:  0.07165278448100283\n",
      "Epoch  10 , Loss:  0.00861605936565104  Val loss:  0.07256175139186032\n"
     ]
    }
   ],
   "source": [
    "model = DNNModel()\n",
    "model.add(HiddenLayer(784, 512))\n",
    "model.add(OutputLayer(512, 10))\n",
    "losses, val_losses = model.fit(train_X, train_y, 10, 0.1, 16, 0.9, val_X, val_y) # somewhat good combination of hyperparameters"
   ]
  },
  {
   "cell_type": "code",
   "execution_count": 40,
   "id": "4c6cc814-e1b9-4360-9b73-5549b7522b06",
   "metadata": {},
   "outputs": [
    {
     "name": "stdout",
     "output_type": "stream",
     "text": [
      "0.06326672549852519\n"
     ]
    }
   ],
   "source": [
    "print(model.loss(test_X, test_y))"
   ]
  },
  {
   "cell_type": "code",
   "execution_count": 86,
   "id": "16015715-6ab2-41fe-95e0-dcf944bd0354",
   "metadata": {},
   "outputs": [
    {
     "name": "stdout",
     "output_type": "stream",
     "text": [
      "Test accuracy:  98.05\n"
     ]
    }
   ],
   "source": [
    "preds_distribution = model.predict(test_X)\n",
    "preds = np.argmax(preds_distribution, axis=1)\n",
    "print(\"Test accuracy: \", np.mean(preds == test_y) * 100)"
   ]
  },
  {
   "cell_type": "code",
   "execution_count": 80,
   "id": "fa5b9d09-01f5-46e0-8d78-d4ab636fb0e5",
   "metadata": {},
   "outputs": [],
   "source": [
    "confusion_matrix = np.zeros((10, 10)).astype(int)\n",
    "for pred, actual in zip(preds, test_y):\n",
    "    confusion_matrix[pred, actual] += 1"
   ]
  },
  {
   "cell_type": "code",
   "execution_count": 78,
   "id": "6e0ee504-f505-4df0-b7e0-2d29385b856a",
   "metadata": {},
   "outputs": [],
   "source": [
    "def plot_confusion_matrix(cm):\n",
    "    labels = [str(i) for i in range(cm.shape[0])]\n",
    "    \n",
    "    fig, ax = plt.subplots(figsize=(10, 8))\n",
    "    im = ax.imshow(cm)\n",
    "    ax.figure.colorbar(im, ax=ax)\n",
    "    \n",
    "    ax.set(xticks=np.arange(cm.shape[1]),\n",
    "           yticks=np.arange(cm.shape[0]),\n",
    "           xticklabels=labels, yticklabels=labels,\n",
    "           ylabel='Actual',\n",
    "           xlabel='Predicted')\n",
    "\n",
    "    thresh = cm.max() / 2.\n",
    "    for i in range(cm.shape[0]):\n",
    "        for j in range(cm.shape[1]):\n",
    "            ax.text(j, i, format(cm[i, j], 'd'),\n",
    "                    ha=\"center\", va=\"center\",\n",
    "                    color=\"black\" if cm[i, j] > thresh else \"white\")\n",
    "\n",
    "    return ax"
   ]
  },
  {
   "cell_type": "code",
   "execution_count": 79,
   "id": "a54273de-b6d5-43ba-a85d-610e4bb4f773",
   "metadata": {},
   "outputs": [
    {
     "data": {
      "image/png": "[encoded data removed]",
      "text/plain": [
       "<Figure size 1000x800 with 2 Axes>"
      ]
     },
     "metadata": {},
     "output_type": "display_data"
    }
   ],
   "source": [
    "plot_confusion_matrix(confusion_matrix)\n",
    "plt.show()"
   ]
  },
  {
   "cell_type": "code",
   "execution_count": null,
   "id": "c025008c-00ec-4dcd-8904-c80493cf32b4",
   "metadata": {},
   "outputs": [],
   "source": []
  }
 ],
 "metadata": {
  "kernelspec": {
   "display_name": "Python 3 (ipykernel)",
   "language": "python",
   "name": "python3"
  },
  "language_info": {
   "codemirror_mode": {
    "name": "ipython",
    "version": 3
   },
   "file_extension": ".py",
   "mimetype": "text/x-python",
   "name": "python",
   "nbconvert_exporter": "python",
   "pygments_lexer": "ipython3",
   "version": "3.9.19"
  }
 },
 "nbformat": 4,
 "nbformat_minor": 5
}
